{
  "nbformat": 4,
  "nbformat_minor": 0,
  "metadata": {
    "colab": {
      "provenance": [],
      "authorship_tag": "ABX9TyNaTzQgew9IncNUDnIV3lgS",
      "include_colab_link": true
    },
    "kernelspec": {
      "name": "python3",
      "display_name": "Python 3"
    },
    "language_info": {
      "name": "python"
    }
  },
  "cells": [
    {
      "cell_type": "markdown",
      "metadata": {
        "id": "view-in-github",
        "colab_type": "text"
      },
      "source": [
        "<a href=\"https://colab.research.google.com/github/OscarIChJ/intro_p/blob/main/Introduction.ipynb\" target=\"_parent\"><img src=\"https://colab.research.google.com/assets/colab-badge.svg\" alt=\"Open In Colab\"/></a>"
      ]
    },
    {
      "cell_type": "markdown",
      "source": [
        "# Introduccion a python\n",
        "## Curso de programacion y algoritmia UPB 202320\n",
        "- Nombre: Oscar Ivan chima  jimenez\n",
        "- ID: 501416\n",
        "- Email: Oscar.chima@upb.edu.co\n",
        "\n",
        "Esta es la expresion de la linea recta:\n",
        "$$y = nx + b$$\n",
        "donde $x$ es la posicion"
      ],
      "metadata": {
        "id": "E_8I4ilUF3Wc"
      }
    },
    {
      "cell_type": "code",
      "source": [
        "# Mis primeras lineas de codigo en Python\n",
        "\n",
        "firstname = \"Oscar\"\n",
        "lastname = \"Chima\"\n",
        "age = \"22\"\n",
        "city = \"Ayapel\"\n",
        "Food = \"carne asada\"\n",
        "print (\"Hello My firstname is,\",firstname,\"\")\n",
        "\n",
        "\n",
        "\n"
      ],
      "metadata": {
        "colab": {
          "base_uri": "https://localhost:8080/"
        },
        "id": "3zan_92NIEE9",
        "outputId": "53ab18dc-28bd-416f-9ea6-3057355e8137"
      },
      "execution_count": 4,
      "outputs": [
        {
          "output_type": "stream",
          "name": "stdout",
          "text": [
            "Hello My firstname is, Oscar \n"
          ]
        }
      ]
    },
    {
      "cell_type": "code",
      "source": [],
      "metadata": {
        "id": "JpBGthuRTkOF"
      },
      "execution_count": null,
      "outputs": []
    }
  ]
}