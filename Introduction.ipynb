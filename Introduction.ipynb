{
  "nbformat": 4,
  "nbformat_minor": 0,
  "metadata": {
    "colab": {
      "provenance": [],
      "authorship_tag": "ABX9TyPz2cRZoNpeLUxb9lNfsv3h",
      "include_colab_link": true
    },
    "kernelspec": {
      "name": "python3",
      "display_name": "Python 3"
    },
    "language_info": {
      "name": "python"
    }
  },
  "cells": [
    {
      "cell_type": "markdown",
      "metadata": {
        "id": "view-in-github",
        "colab_type": "text"
      },
      "source": [
        "<a href=\"https://colab.research.google.com/github/OscarIChJ/intro_p/blob/main/Introduction.ipynb\" target=\"_parent\"><img src=\"https://colab.research.google.com/assets/colab-badge.svg\" alt=\"Open In Colab\"/></a>"
      ]
    },
    {
      "cell_type": "markdown",
      "source": [
        "# Introduccion a python\n",
        "## Curso de programacion y algoritmia UPB 202320\n",
        "- Nombre: Oscar Ivan chima  jimenez\n",
        "- ID: 501416\n",
        "- Email: Oscar.chima@upb.edu.co\n",
        "\n",
        "Esta es la expresion de la linea recta:\n",
        "$$y = nx + b$$\n",
        "donde $x$ es la posicion"
      ],
      "metadata": {
        "id": "E_8I4ilUF3Wc"
      }
    },
    {
      "cell_type": "code",
      "source": [],
      "metadata": {
        "id": "3zan_92NIEE9"
      },
      "execution_count": null,
      "outputs": []
    }
  ]
}